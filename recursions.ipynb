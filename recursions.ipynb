{
 "cells": [
  {
   "cell_type": "code",
   "execution_count": 1,
   "id": "d8777e58-5e22-4046-ad77-bd79f2d13dc7",
   "metadata": {},
   "outputs": [
    {
     "name": "stdin",
     "output_type": "stream",
     "text": [
      "enter the terms: 10\n"
     ]
    },
    {
     "name": "stdout",
     "output_type": "stream",
     "text": [
      "0 1 1 2 3 5 8 13 21 34 "
     ]
    }
   ],
   "source": [
    "#fibonacci 1 1 2 3 5 8 13 21 34 55\n",
    "\n",
    "def fib(n):\n",
    "    if n<=1:\n",
    "        return n\n",
    "    else:\n",
    "        return fib(n-1)+fib(n-2)\n",
    "num=int(input (\"enter the terms:\"))\n",
    "for i in range(num):\n",
    "    print(fib(i), end=' ')"
   ]
  },
  {
   "cell_type": "code",
   "execution_count": 5,
   "id": "a2c5d953-7e52-49e7-b931-ea0bb40a21f1",
   "metadata": {},
   "outputs": [
    {
     "name": "stdin",
     "output_type": "stream",
     "text": [
      "sum of digits numbers: 12345\n"
     ]
    },
    {
     "name": "stdout",
     "output_type": "stream",
     "text": [
      "sum of digits: 15\n"
     ]
    }
   ],
   "source": [
    "def dsum(n):\n",
    "    if n==0:\n",
    "        return 0\n",
    "    return n%10 + temp(n//10)\n",
    "def temp(n):\n",
    "    return dsum(n)\n",
    "num=int(input(\"sum of digits numbers:\"))\n",
    "print(\"sum of digits:\",dsum(num))"
   ]
  },
  {
   "cell_type": "code",
   "execution_count": 9,
   "id": "0c89aa42-7282-41f1-b2b4-12fb300a685d",
   "metadata": {},
   "outputs": [
    {
     "data": {
      "text/plain": [
       "123"
      ]
     },
     "execution_count": 9,
     "metadata": {},
     "output_type": "execute_result"
    }
   ],
   "source": [
    "a=1234\n",
    "a//10\n"
   ]
  },
  {
   "cell_type": "code",
   "execution_count": 21,
   "id": "133f69d5-0630-4257-9296-65710e4124f2",
   "metadata": {},
   "outputs": [
    {
     "data": {
      "text/plain": [
       "10"
      ]
     },
     "execution_count": 21,
     "metadata": {},
     "output_type": "execute_result"
    }
   ],
   "source": [
    "a=1234\n",
    "a%10+temp(a//10)"
   ]
  },
  {
   "cell_type": "code",
   "execution_count": 23,
   "id": "075f8db7-f062-4762-a8b6-15934cf0761c",
   "metadata": {},
   "outputs": [
    {
     "data": {
      "text/plain": [
       "15"
      ]
     },
     "execution_count": 23,
     "metadata": {},
     "output_type": "execute_result"
    }
   ],
   "source": [
    "a=12345\n",
    "a%10+temp(a//10)"
   ]
  },
  {
   "cell_type": "code",
   "execution_count": 27,
   "id": "1a4f7900-8eb3-411d-be98-e84f9f9f90ad",
   "metadata": {},
   "outputs": [
    {
     "name": "stdin",
     "output_type": "stream",
     "text": [
      "enter a number: 78\n"
     ]
    },
    {
     "name": "stdout",
     "output_type": "stream",
     "text": [
      "78 is even\n"
     ]
    }
   ],
   "source": [
    "#indirect recursion\n",
    "def one(n):\n",
    "    if n==0:\n",
    "        return True\n",
    "    else:\n",
    "        return two(n-1)\n",
    "def two(n):\n",
    "    if n==0:\n",
    "        return False\n",
    "    else:\n",
    "        return one(n-1)\n",
    "num=int(input(\"enter a number:\"))\n",
    "if one(num):\n",
    "    print(num,\"is even\")\n",
    "else:\n",
    "    print(num,\"is odd\")\n"
   ]
  },
  {
   "cell_type": "code",
   "execution_count": 35,
   "id": "70fde26e-2b76-4fa3-9441-b1055506c059",
   "metadata": {},
   "outputs": [
    {
     "name": "stdin",
     "output_type": "stream",
     "text": [
      "enter a number: 8\n"
     ]
    },
    {
     "name": "stdout",
     "output_type": "stream",
     "text": [
      "vijay 8\n",
      "kommarapu 7\n",
      "vijay 6\n",
      "kommarapu 5\n",
      "vijay 4\n",
      "kommarapu 3\n",
      "vijay 2\n",
      "kommarapu 1\n"
     ]
    }
   ],
   "source": [
    "#indirect recursion\n",
    "def A(n):\n",
    "    if n<=0:\n",
    "        return \n",
    "    print (\"vijay\",n)\n",
    "    B(n-1)\n",
    "def B(n):\n",
    "    if n<=0:\n",
    "        return \n",
    "    print(\"kommarapu\",n)\n",
    "    A(n-1)\n",
    "num=int(input(\"enter a number:\"))\n",
    "A(num)\n"
   ]
  },
  {
   "cell_type": "code",
   "execution_count": null,
   "id": "a7edda4f-60dd-4042-8a71-dc8fc120bdf1",
   "metadata": {},
   "outputs": [],
   "source": []
  }
 ],
 "metadata": {
  "kernelspec": {
   "display_name": "Python 3 (ipykernel)",
   "language": "python",
   "name": "python3"
  },
  "language_info": {
   "codemirror_mode": {
    "name": "ipython",
    "version": 3
   },
   "file_extension": ".py",
   "mimetype": "text/x-python",
   "name": "python",
   "nbconvert_exporter": "python",
   "pygments_lexer": "ipython3",
   "version": "3.12.7"
  }
 },
 "nbformat": 4,
 "nbformat_minor": 5
}
